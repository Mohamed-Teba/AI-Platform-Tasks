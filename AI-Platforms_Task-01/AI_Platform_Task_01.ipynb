{
  "nbformat": 4,
  "nbformat_minor": 0,
  "metadata": {
    "colab": {
      "provenance": []
    },
    "kernelspec": {
      "name": "python3",
      "display_name": "Python 3"
    },
    "language_info": {
      "name": "python"
    }
  },
  "cells": [
    {
      "cell_type": "markdown",
      "source": [
        "=|> ***Importing Essential Libraries:***"
      ],
      "metadata": {
        "id": "9AcxFVk9L66W"
      }
    },
    {
      "cell_type": "code",
      "execution_count": 4,
      "metadata": {
        "id": "Zigt-HryEXYE"
      },
      "outputs": [],
      "source": [
        "import torch\n",
        "import torch.nn as nn\n",
        "import torch.nn.functional as F"
      ]
    },
    {
      "cell_type": "markdown",
      "source": [
        "=|> ***Building Neural Network:***"
      ],
      "metadata": {
        "id": "mnMkgByHMNVR"
      }
    },
    {
      "cell_type": "code",
      "source": [
        "class Graph(nn.Module):\n",
        "\n",
        "    def __init__(self):\n",
        "        super(Graph, self).__init__()\n",
        "\n",
        "        self.w00 = nn.Parameter(torch.tensor(0.5))\n",
        "        self.b00 = nn.Parameter(torch.tensor(0.1))\n",
        "        self.w01 = nn.Parameter(torch.tensor(-0.3))\n",
        "        self.b01 = nn.Parameter(torch.tensor(1.2))\n",
        "        self.w02 = nn.Parameter(torch.tensor(0.8))\n",
        "        self.b02 = nn.Parameter(torch.tensor(-0.5))\n",
        "\n",
        "        self.w10 = nn.Parameter(torch.tensor(1.0))\n",
        "        self.b10 = nn.Parameter(torch.tensor(0.0))\n",
        "        self.w11 = nn.Parameter(torch.tensor(-1.5))\n",
        "        self.b11 = nn.Parameter(torch.tensor(0.2))\n",
        "\n",
        "        self.w20 = nn.Parameter(torch.tensor(2.0))\n",
        "        self.b20 = nn.Parameter(torch.tensor(0.5))\n",
        "\n",
        "#---------------------------By-Mohamed-Ibrahim----------------------------------\n",
        "\n",
        "    def forward(self, x):\n",
        "\n",
        "        print(f\"Forward Pass:\")\n",
        "\n",
        "        Z1_0 = x * self.w00 + self.b00\n",
        "        Z1_1 = x * self.w01 + self.b01\n",
        "        Z1_2 = x * self.w02 + self.b02\n",
        "        A1 = torch.stack([F.relu(Z1_0), F.relu(Z1_1), F.relu(Z1_2)])\n",
        "        print(f\"L1 ReLU Output (A1): {A1.tolist()}\")\n",
        "\n",
        "        Z2_0 = x * self.w10 + self.b10\n",
        "        Z2_1 = x * self.w11 + self.b11\n",
        "        A2 = torch.stack([torch.sigmoid(Z2_0), torch.sigmoid(Z2_1)])\n",
        "        print(f\"L2 Sigmoid Output (A2): {A2.tolist()}\")\n",
        "\n",
        "        S1 = torch.sum(A1)\n",
        "        S2 = torch.sum(A2)\n",
        "        C = S1 + S2\n",
        "        A_final = torch.tanh(C)\n",
        "\n",
        "        print(f\"Combined (S1+S2): {C.item():.4f}\")\n",
        "        print(f\"Tanh Output: {A_final.item():.4f}\")\n",
        "\n",
        "        y = A_final * self.w20 + self.b20\n",
        "\n",
        "        return y"
      ],
      "metadata": {
        "id": "3ztawe4SJcGl"
      },
      "execution_count": 5,
      "outputs": []
    },
    {
      "cell_type": "markdown",
      "source": [
        " =|> ***Implementing Forward Pass:***"
      ],
      "metadata": {
        "id": "ptEwDDYOMrmS"
      }
    },
    {
      "cell_type": "code",
      "source": [
        "model = Graph()\n",
        "\n",
        "x = torch.tensor(2.0, requires_grad=True)\n",
        "\n",
        "print(f\"Input (x): {x.item():.4f}\")\n",
        "y = model(x)\n",
        "\n",
        "print(f\"Final Output (y): {y.item():.4f}\")"
      ],
      "metadata": {
        "colab": {
          "base_uri": "https://localhost:8080/"
        },
        "id": "NtMiX_I3JcEG",
        "outputId": "435a9431-aa40-440f-de44-f48c120dc42b"
      },
      "execution_count": 6,
      "outputs": [
        {
          "output_type": "stream",
          "name": "stdout",
          "text": [
            "Input (x): 2.0000\n",
            "Forward Pass:\n",
            "L1 ReLU Output (A1): [1.100000023841858, 0.6000000238418579, 1.100000023841858]\n",
            "L2 Sigmoid Output (A2): [0.8807970285415649, 0.05732417479157448]\n",
            "Combined (S1+S2): 3.7381\n",
            "Tanh Output: 0.9989\n",
            "Final Output (y): 2.4977\n"
          ]
        }
      ]
    },
    {
      "cell_type": "markdown",
      "source": [
        "=|> ***Implementing Backward Pass***"
      ],
      "metadata": {
        "id": "tFiqi2z4M4Q4"
      }
    },
    {
      "cell_type": "code",
      "source": [
        "y.backward()\n",
        "\n",
        "print(f\"Gradient: {x.grad.item():.6f}\")"
      ],
      "metadata": {
        "colab": {
          "base_uri": "https://localhost:8080/"
        },
        "id": "V9Vb_bhWJcBt",
        "outputId": "e840fdab-4ae1-4366-b87a-fb66e906292c"
      },
      "execution_count": 7,
      "outputs": [
        {
          "output_type": "stream",
          "name": "stdout",
          "text": [
            "Gradient: 0.004634\n"
          ]
        }
      ]
    }
  ]
}